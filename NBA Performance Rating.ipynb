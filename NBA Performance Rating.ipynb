{
 "cells": [
  {
   "cell_type": "markdown",
   "metadata": {
    "application/vnd.databricks.v1+cell": {
     "cellMetadata": {},
     "inputWidgets": {},
     "nuid": "fa07bb16-edf7-4f00-9e6b-11e5a847151b",
     "showTitle": false,
     "tableResultSettingsMap": {},
     "title": ""
    }
   },
   "source": [
    "# NBA Best Performance using Real-time Data Processing with Azure Databricks (and Event Hubs)\n",
    "\n",
    "This notebook demonstrates a real-time data processing workflow in Databricks using Structured Streaming to ingest data from Event Hubs. Designed a Bronze-Silver-Gold architecture to refine and transform data to find the best performance from a basketball game, with an automated email alert to notify stakeholders of the top results.\n",
    "\n",
    "- Data Sources: Streaming data from IoT devices or social media feeds. (Simulated in Event Hubs)\n",
    "- Ingestion: Azure Event Hubs for capturing real-time data.\n",
    "- Processing: Azure Databricks for stream processing using Structured Streaming.\n",
    "- Storage: Processed data stored Azure Data Lake (Delta Format).\n",
    "\n",
    "### Azure Services Required\n",
    "- Databricks Workspace\n",
    "- Azure Data Lake Storage\n",
    "- Azure Event Hub\n",
    "\n",
    "### Azure Databricks Configuration Required\n",
    "- Single Node Compute Cluster: `12.2 LTS (includes Apache Spark 3.3.2, Scala 2.12)`\n",
    "- Maven Library installed on Compute Cluster: `com.microsoft.azure:azure-eventhubs-spark_2.12:2.3.22`"
   ]
  },
  {
   "cell_type": "markdown",
   "metadata": {
    "application/vnd.databricks.v1+cell": {
     "cellMetadata": {},
     "inputWidgets": {},
     "nuid": "29d396cf-ac05-47c8-9069-36d87d843b74",
     "showTitle": false,
     "tableResultSettingsMap": {},
     "title": ""
    }
   },
   "source": [
    "## Sample Data:\n",
    "### {\n",
    "###     \"gameId\": \"G78901\",\n",
    "###     \"date\": \"2025-03-18\",\n",
    "###     \"team_stats\": {\n",
    "###         \"team\": \"Lakers\",\n",
    "###         \"total_points\": 120,\n",
    "###         \"total_assists\": 30,\n",
    "###         \"total_rebounds\": 55,\n",
    "###         \"total_steals\": 8,\n",
    "###         \"total_blocks\": 7,\n",
    "###         \"total_turnovers\": 9,\n",
    "###         \"total_fouls\": 17\n",
    "###     },\n",
    "###     \"players\": [\n",
    "###         {\"player\": \"LeBron James\", \"points\": 32, \"assists\": 8, \"rebounds\": 10, \"steals\": 2, \"blocks\": 2, \"fouls\": 2, \"turnovers\": 2},\n",
    "###         {\"player\": \"Anthony Davis\", \"points\": 25, \"assists\": 4, \"rebounds\": 12, \"steals\": 1, \"blocks\": 4, \"fouls\": 3, \"turnovers\": 1},\n",
    "###         {\"player\": \"D'Angelo Russell\", \"points\": 18, \"assists\": 9, \"rebounds\": 4, \"steals\": 2, \"blocks\": 1, \"fouls\": 2, \"turnovers\": 2},\n",
    "###         {\"player\": \"Austin Reaves\", \"points\": 16, \"assists\": 6, \"rebounds\": 5, \"steals\": 3, \"blocks\": 0, \"fouls\": 3, \"turnovers\": 2}\n",
    "###     ],\n",
    "###     \"quarter\": 4,\n",
    "###     \"time\": \"00:00\"\n",
    "### }\n"
   ]
  },
  {
   "cell_type": "markdown",
   "metadata": {
    "application/vnd.databricks.v1+cell": {
     "cellMetadata": {},
     "inputWidgets": {},
     "nuid": "097a7b51-2ef0-4267-8379-9c4e868324ee",
     "showTitle": false,
     "tableResultSettingsMap": {},
     "title": ""
    }
   },
   "source": [
    "%md\n",
    "The code block below creates the catalog and schemas for our solution. \n",
    "\n",
    "The approach utilises a multi-hop data storage architecture (medallion), consisting of bronze, silver, and gold schemas"
   ]
  },
  {
   "cell_type": "code",
   "execution_count": 0,
   "metadata": {
    "application/vnd.databricks.v1+cell": {
     "cellMetadata": {},
     "inputWidgets": {},
     "nuid": "92cbc6d2-5740-4f1e-afd3-6d99baaf5c75",
     "showTitle": false,
     "tableResultSettingsMap": {},
     "title": ""
    }
   },
   "outputs": [],
   "source": [
    "try:\n",
    "    spark.sql(\"CREATE SCHEMA IF NOT EXISTS hive_metastore.bronze;\")\n",
    "except:\n",
    "    print('check if bronze schema already exists')\n",
    "\n",
    "try:\n",
    "    spark.sql(\"CREATE SCHEMA IF NOT EXISTS hive_metastore.silver;\")\n",
    "except:\n",
    "    print('check if silver schema already exists')\n",
    "\n",
    "try:\n",
    "    spark.sql(\"CREATE SCHEMA IF NOT EXISTS hive_metadata.gold;\")\n",
    "except:\n",
    "    print('check if gold schema already exists')"
   ]
  },
  {
   "cell_type": "markdown",
   "metadata": {
    "application/vnd.databricks.v1+cell": {
     "cellMetadata": {},
     "inputWidgets": {},
     "nuid": "02aebaa6-839f-4205-a130-b242a4efcd2e",
     "showTitle": false,
     "tableResultSettingsMap": {},
     "title": ""
    }
   },
   "source": [
    "%md\n",
    "Importing the libraries."
   ]
  },
  {
   "cell_type": "code",
   "execution_count": 0,
   "metadata": {
    "application/vnd.databricks.v1+cell": {
     "cellMetadata": {
      "byteLimit": 2048000,
      "rowLimit": 10000
     },
     "inputWidgets": {},
     "nuid": "46d6792d-79f3-4727-b14b-e05565c97a7e",
     "showTitle": false,
     "tableResultSettingsMap": {},
     "title": ""
    }
   },
   "outputs": [],
   "source": [
    "from pyspark.sql.functions import *\n",
    "from pyspark.sql.types import *\n",
    "import smtplib\n",
    "from email.mime.text import MIMEText\n"
   ]
  },
  {
   "cell_type": "markdown",
   "metadata": {
    "application/vnd.databricks.v1+cell": {
     "cellMetadata": {},
     "inputWidgets": {},
     "nuid": "c00314aa-c584-47b0-aad7-8b9343da8852",
     "showTitle": false,
     "tableResultSettingsMap": {},
     "title": ""
    }
   },
   "source": [
    "%md\n",
    "#### Bronze Layer"
   ]
  },
  {
   "cell_type": "markdown",
   "metadata": {
    "application/vnd.databricks.v1+cell": {
     "cellMetadata": {},
     "inputWidgets": {},
     "nuid": "41083486-857d-485a-8501-77111ff73ce1",
     "showTitle": false,
     "tableResultSettingsMap": {},
     "title": ""
    }
   },
   "source": [
    "%md\n",
    "* Set up Azure Event hubs connection string.\n",
    "* Defining JSON Schema\n",
    "* Reading and writing the stream to Bronze Layer"
   ]
  },
  {
   "cell_type": "code",
   "execution_count": 0,
   "metadata": {
    "application/vnd.databricks.v1+cell": {
     "cellMetadata": {
      "byteLimit": 2048000,
      "rowLimit": 10000
     },
     "inputWidgets": {},
     "nuid": "b09fa153-9b90-46e2-8f84-ec4a338c200c",
     "showTitle": false,
     "tableResultSettingsMap": {},
     "title": ""
    }
   },
   "outputs": [],
   "source": [
    "# Event Hubs Configuration\n",
    "connectionString = \"Endpoint=sb://jack-namespace-demo.servicebus.windows.net/;SharedAccessKeyName=databricks;SharedAccessKey=##############################################;EntityPath=eh_nba\"\n",
    "\n",
    "ehConf = {\n",
    "    \"eventhubs.connectionString\": sc._jvm.org.apache.spark.eventhubs.EventHubsUtils.encrypt(connectionString)\n",
    "}"
   ]
  },
  {
   "cell_type": "code",
   "execution_count": 0,
   "metadata": {
    "application/vnd.databricks.v1+cell": {
     "cellMetadata": {
      "byteLimit": 2048000,
      "rowLimit": 10000
     },
     "inputWidgets": {},
     "nuid": "02faaa2b-7209-43a7-8909-0f62cfdc5eec",
     "showTitle": false,
     "tableResultSettingsMap": {},
     "title": ""
    }
   },
   "outputs": [],
   "source": [
    "#JSON Schema\n",
    "# No JSON parsing in Bronze layer, store raw data\n",
    "player_schema = ArrayType(StructType([\n",
    "    StructField(\"player\", StringType()),\n",
    "    StructField(\"points\", IntegerType()),\n",
    "    StructField(\"assists\", IntegerType()),\n",
    "    StructField(\"rebounds\", IntegerType()),\n",
    "    StructField(\"steals\", IntegerType()),\n",
    "    StructField(\"blocks\", IntegerType()),\n",
    "    StructField(\"fouls\", IntegerType()),\n",
    "    StructField(\"turnovers\", IntegerType())\n",
    "]))\n",
    "\n",
    "team_stats_schema = StructType([\n",
    "    StructField(\"team\", StringType()),\n",
    "    StructField(\"total_points\", IntegerType()),\n",
    "    StructField(\"total_assists\", IntegerType()),\n",
    "    StructField(\"total_rebounds\", IntegerType()),\n",
    "    StructField(\"total_steals\", IntegerType()),\n",
    "    StructField(\"total_blocks\", IntegerType()),\n",
    "    StructField(\"total_turnovers\", IntegerType()),\n",
    "    StructField(\"total_fouls\", IntegerType())\n",
    "])\n",
    "\n",
    "json_schema = StructType([\n",
    "    StructField(\"gameId\", StringType()),\n",
    "    StructField(\"date\", StringType()),\n",
    "    StructField(\"team_stats\", team_stats_schema),\n",
    "    StructField(\"players\", player_schema),\n",
    "    StructField(\"quarter\", IntegerType()),\n",
    "    StructField(\"time\", StringType())\n",
    "])"
   ]
  },
  {
   "cell_type": "code",
   "execution_count": 0,
   "metadata": {
    "application/vnd.databricks.v1+cell": {
     "cellMetadata": {
      "byteLimit": 2048000,
      "rowLimit": 10000
     },
     "inputWidgets": {},
     "nuid": "0cc39818-aefb-44ac-b6ed-86bedf0d6300",
     "showTitle": false,
     "tableResultSettingsMap": {},
     "title": ""
    }
   },
   "outputs": [],
   "source": [
    "# Read raw streaming data from Event Hubs\n",
    "\n",
    "df_bronze = spark.readStream \\\n",
    "    .format(\"eventhubs\") \\\n",
    "    .options(**ehConf) \\\n",
    "    .load()\n",
    "\n",
    "# Write to Bronze Table\n",
    "df_bronze.writeStream \\\n",
    "    .option(\"checkpointLocation\", \"/mnt/checkpoints/bronze/nba\") \\\n",
    "    .outputMode(\"append\") \\\n",
    "    .format(\"delta\") \\\n",
    "    .toTable(\"hive_metastore.bronze.nba\")\n",
    "\n",
    "df_bronze.display()"
   ]
  },
  {
   "cell_type": "markdown",
   "metadata": {
    "application/vnd.databricks.v1+cell": {
     "cellMetadata": {},
     "inputWidgets": {},
     "nuid": "d849726e-2460-4556-8f36-a53079ec72ac",
     "showTitle": false,
     "tableResultSettingsMap": {},
     "title": ""
    }
   },
   "source": [
    "%md\n",
    "Checking whether data is stored in Bronze NBA Table"
   ]
  },
  {
   "cell_type": "code",
   "execution_count": 0,
   "metadata": {
    "application/vnd.databricks.v1+cell": {
     "cellMetadata": {},
     "inputWidgets": {},
     "nuid": "776ca4d6-36e5-4888-997c-bda0bfa73a80",
     "showTitle": false,
     "tableResultSettingsMap": {},
     "title": ""
    }
   },
   "outputs": [],
   "source": [
    "%sql \n",
    "\n",
    "select * from hive_metastore.bronze.nba\n"
   ]
  },
  {
   "cell_type": "markdown",
   "metadata": {
    "application/vnd.databricks.v1+cell": {
     "cellMetadata": {},
     "inputWidgets": {},
     "nuid": "63e94ae1-007b-4e14-a462-282fb8110083",
     "showTitle": false,
     "tableResultSettingsMap": {},
     "title": ""
    }
   },
   "source": [
    "###Silver Layer"
   ]
  },
  {
   "cell_type": "markdown",
   "metadata": {
    "application/vnd.databricks.v1+cell": {
     "cellMetadata": {},
     "inputWidgets": {},
     "nuid": "819f8acb-c538-449b-88c2-0e315d747a16",
     "showTitle": false,
     "tableResultSettingsMap": {},
     "title": ""
    }
   },
   "source": [
    "%md\n",
    "* Reading the stream from the bronze \n",
    "* eventID is added for dropping duplicates\n",
    "* Data is flattened into player and team stats\n",
    "* Writing the transformed stream into silver layer"
   ]
  },
  {
   "cell_type": "code",
   "execution_count": 0,
   "metadata": {
    "application/vnd.databricks.v1+cell": {
     "cellMetadata": {
      "byteLimit": 2048000,
      "rowLimit": 10000
     },
     "inputWidgets": {},
     "nuid": "6b3698d0-ce96-4cd7-a2a1-626f6fbae65e",
     "showTitle": false,
     "tableResultSettingsMap": {},
     "title": ""
    }
   },
   "outputs": [],
   "source": [
    "# Read raw streaming data from Bronze Table\n",
    "df_silver = spark.readStream \\\n",
    "    .format(\"delta\") \\\n",
    "    .table(\"hive_metastore.bronze.nba\") \\\n",
    "    .withColumn(\"body\", col(\"body\").cast(\"string\")) \\\n",
    "    .withColumn(\"body\", from_json(col(\"body\"), json_schema)) \\\n",
    "    .withColumn(\"eventId\", expr(\"uuid()\")) \\\n",
    "    .select(\"eventId\", \"body.*\", col(\"enqueuedTime\").alias(\"timestamp\")) \\\n",
    "    .dropDuplicates([\"eventId\"])\n",
    "\n",
    "# Flatten data in Silver Layer\n",
    "df_silver_flat = df_silver.withColumn(\"player\", explode(col(\"players\"))) \\\n",
    "    .select(\"eventId\", \"gameId\", \"date\", \"team_stats.team\", \"team_stats.total_points\", \"team_stats.total_assists\", \n",
    "            \"team_stats.total_rebounds\", \"team_stats.total_steals\", \"team_stats.total_blocks\", \n",
    "            \"team_stats.total_turnovers\", \"team_stats.total_fouls\", \"player.player\", \"player.points\", \n",
    "            \"player.assists\", \"player.rebounds\", \"player.steals\", \"player.blocks\", \"player.fouls\", \n",
    "            \"player.turnovers\", \"quarter\", \"time\", \"timestamp\")\n",
    "\n",
    "# Write to Silver Table\n",
    "df_silver_flat.writeStream \\\n",
    "    .option(\"checkpointLocation\", \"/mnt/checkpoints/silver/nba_cleaned\") \\\n",
    "    .outputMode(\"append\") \\\n",
    "    .format(\"delta\") \\\n",
    "    .toTable(\"hive_metastore.silver.nba_cleaned\")\n",
    "\n",
    "df_silver_flat.display()"
   ]
  },
  {
   "cell_type": "markdown",
   "metadata": {
    "application/vnd.databricks.v1+cell": {
     "cellMetadata": {},
     "inputWidgets": {},
     "nuid": "01d369fd-28d7-4a99-9dff-80a4b5529820",
     "showTitle": false,
     "tableResultSettingsMap": {},
     "title": ""
    }
   },
   "source": [
    "Checking whether data is stored in Silver NBA Table"
   ]
  },
  {
   "cell_type": "code",
   "execution_count": 0,
   "metadata": {
    "application/vnd.databricks.v1+cell": {
     "cellMetadata": {},
     "inputWidgets": {},
     "nuid": "5f05ba45-c366-4f38-840a-0200783f8ec6",
     "showTitle": false,
     "tableResultSettingsMap": {},
     "title": ""
    }
   },
   "outputs": [],
   "source": [
    "%sql \n",
    "\n",
    "select * from hive_metastore.silver.nba\n"
   ]
  },
  {
   "cell_type": "markdown",
   "metadata": {
    "application/vnd.databricks.v1+cell": {
     "cellMetadata": {},
     "inputWidgets": {},
     "nuid": "decacc82-3372-418f-9431-294b434aa0b0",
     "showTitle": false,
     "tableResultSettingsMap": {},
     "title": ""
    }
   },
   "source": [
    "###Gold Layer\n"
   ]
  },
  {
   "cell_type": "markdown",
   "metadata": {
    "application/vnd.databricks.v1+cell": {
     "cellMetadata": {},
     "inputWidgets": {},
     "nuid": "8e9058d9-c2c2-4016-9830-2bf0e9f682e8",
     "showTitle": false,
     "tableResultSettingsMap": {},
     "title": ""
    }
   },
   "source": [
    "* Reading from Silver Layer\n",
    "* Aggregation \n",
    "* Email Notification\n",
    "* Flag is added to send only the new results"
   ]
  },
  {
   "cell_type": "code",
   "execution_count": 0,
   "metadata": {
    "application/vnd.databricks.v1+cell": {
     "cellMetadata": {
      "byteLimit": 2048000,
      "rowLimit": 10000
     },
     "inputWidgets": {},
     "nuid": "a3df5f2f-689d-46e5-a347-df38072b7d00",
     "showTitle": false,
     "tableResultSettingsMap": {},
     "title": ""
    }
   },
   "outputs": [],
   "source": [
    "# Aggregation in Gold Layer with Date-based Grouping\n",
    "df_gold = df_silver_flat \\\n",
    "    .groupBy(\"date\", \"gameId\", \"team\", \"player\") \\\n",
    "    .agg(\n",
    "        sum(\"points\").alias(\"total_points\"),\n",
    "        sum(\"assists\").alias(\"total_assists\"),\n",
    "        sum(\"rebounds\").alias(\"total_rebounds\"),\n",
    "        sum(\"steals\").alias(\"total_steals\"),\n",
    "        sum(\"blocks\").alias(\"total_blocks\"),\n",
    "        sum(\"turnovers\").alias(\"total_turnovers\"),\n",
    "        sum(\"fouls\").alias(\"total_fouls\"),\n",
    "        count(\"eventId\").alias(\"game_count\")\n",
    "    ) \\\n",
    "    .withColumn(\"flag\", lit(0)) \\\n",
    "    .withColumn(\n",
    "        \"performance_rating\",\n",
    "        col(\"total_points\") * 1.5 +\n",
    "        col(\"total_assists\") * 1.2 +\n",
    "        col(\"total_rebounds\") * 1.3 +\n",
    "        col(\"total_steals\") * 2 +\n",
    "        col(\"total_blocks\") * 2 -\n",
    "        col(\"total_turnovers\") * 1.5\n",
    "    )\n",
    "\n",
    "\n",
    "def send_email(subject, body):\n",
    "    sender_email = \"###########\"\n",
    "    receiver_email = \"##############\"\n",
    "    app_password = \"tcxd kowt ppge eujr\"\n",
    "    \n",
    "    msg = MIMEText(body)\n",
    "    msg[\"Subject\"] = subject\n",
    "    msg[\"From\"] = sender_email\n",
    "    msg[\"To\"] = receiver_email\n",
    "    \n",
    "    try:\n",
    "        server = smtplib.SMTP(\"smtp.gmail.com\", 587)\n",
    "        server.starttls()\n",
    "        server.login(sender_email, app_password)\n",
    "        server.sendmail(sender_email, receiver_email, msg.as_string())\n",
    "        server.quit()\n",
    "    except Exception as e:\n",
    "        print(f\"Error sending email: {e}\")\n",
    "\n",
    "# Store Top Performer and Best Team\n",
    "def log_star_performances(batch_df, batch_id):\n",
    "    top_performer = batch_df.orderBy(col(\"performance_rating\").desc()).limit(1)\n",
    "    best_team = batch_df.groupBy(\"team\").agg(sum(\"performance_rating\").alias(\"team_score\")).orderBy(col(\"team_score\").desc()).limit(1)\n",
    "    print(top_performer.schema)\n",
    "    \n",
    "    if top_performer.count() > 0 and best_team.count() > 0:\n",
    "        top_player = top_performer.collect()[0]  # Use `.first()` instead of `.collect()[0]`\n",
    "        best_team_stats = best_team.collect()[0]\n",
    "\n",
    "        email_body = f\"\"\"\n",
    "        NBA Best Performance for {top_player['date']}\n",
    "\n",
    "        🏆 Top Performer: {top_player['player']} ({top_player['team']})\n",
    "        Performance Rating: {top_player['performance_rating']}\n",
    "\n",
    "        🔥 Best Team: {best_team_stats['team']}\n",
    "    \n",
    "        \"\"\"\n",
    "\n",
    "\n",
    "        send_email(\"NBA Daily Performance Report\", email_body)\n",
    "\n",
    "\n",
    "\n",
    "\n",
    "\n",
    "    # Write Top Performer and Best Team to Gold Tables\n",
    "    top_performer.write.mode(\"overwrite\").saveAsTable(\"hive_metastore.gold.nba_top_performer\")\n",
    "    best_team.write.mode(\"overwrite\").saveAsTable(\"hive_metastore.gold.nba_best_team\")\n",
    "\n",
    "   # Write to a staging table before merging\n",
    "    batch_df.write.mode(\"overwrite\").saveAsTable(\"hive_metastore.gold.nba_staging\")\n",
    "\n",
    "    #Join Condition for Flag Updation\n",
    "    spark.sql(\"\"\"\n",
    "    MERGE INTO hive_metastore.gold.nba g\n",
    "    USING hive_metastore.gold.nba_staging t\n",
    "    ON g.team = t.team AND g.date = t.date\n",
    "    WHEN MATCHED THEN UPDATE SET g.flag = 1\n",
    "    WHEN NOT MATCHED THEN INSERT *\n",
    "    \"\"\")\n",
    "\n",
    "\n",
    "# Use foreachBatch for Gold Table Writes\n",
    "df_gold.writeStream \\\n",
    "    .foreachBatch(log_star_performances) \\\n",
    "    .outputMode(\"complete\") \\\n",
    "    .start()\n",
    "\n",
    "df_gold.display()\n",
    "\n",
    "\n"
   ]
  },
  {
   "cell_type": "markdown",
   "metadata": {
    "application/vnd.databricks.v1+cell": {
     "cellMetadata": {},
     "inputWidgets": {},
     "nuid": "b9138d50-7616-496b-9bfc-7f606996644c",
     "showTitle": false,
     "tableResultSettingsMap": {},
     "title": ""
    }
   },
   "source": [
    "Checking whether data is stored in Gold NBA Tables"
   ]
  },
  {
   "cell_type": "code",
   "execution_count": 0,
   "metadata": {
    "application/vnd.databricks.v1+cell": {
     "cellMetadata": {
      "byteLimit": 2048000,
      "implicitDf": true,
      "rowLimit": 10000
     },
     "inputWidgets": {},
     "nuid": "586fd88e-dd99-4bef-839a-8012f7858ac6",
     "showTitle": false,
     "tableResultSettingsMap": {},
     "title": ""
    }
   },
   "outputs": [],
   "source": [
    "%sql\n",
    "#Player Performance\n",
    "select * from hive_metastore.gold.nba_top_performer\n",
    "#Team Performance\n",
    "select * from hive_metastore.gold.nba_best_team"
   ]
  }
 ],
 "metadata": {
  "application/vnd.databricks.v1+notebook": {
   "computePreferences": null,
   "dashboards": [],
   "environmentMetadata": {
    "base_environment": "",
    "environment_version": "2"
   },
   "inputWidgetPreferences": null,
   "language": "python",
   "notebookMetadata": {
    "mostRecentlyExecutedCommandWithImplicitDF": {
     "commandId": 2254058299758451,
     "dataframes": [
      "_sqldf"
     ]
    },
    "pythonIndentUnit": 4
   },
   "notebookName": "NBA Performance Rating",
   "widgets": {}
  },
  "language_info": {
   "name": "python"
  }
 },
 "nbformat": 4,
 "nbformat_minor": 0
}